{
 "cells": [
  {
   "cell_type": "markdown",
   "metadata": {},
   "source": [
    "<img src=\"http://imgur.com/1ZcRyrc.png\" style=\"float: left; margin: 20px; height: 55px\" />\n",
    "\n",
    "# Excel Madness Lab!\n",
    "\n",
    "_Author:_ Tim Book"
   ]
  },
  {
   "cell_type": "markdown",
   "metadata": {},
   "source": [
    "## Our Mission\n",
    "We work for a large supermarket chain, with stores in 10 major cities that happen to coincide with General Assembly campuses. However, this company's idea of a \"database\" is just a bunch of Excel spreadsheets! In order to analyze our data, we're going to need to process the existing data into a form we can use. **Our end goal is to have one csv per city.**\n",
    "\n",
    "## Cleanup Duty!\n",
    "It is a hard truth that data scientists spend a large majority of their time cleaning data. Data never arrives on our desks in exactly the format in which we want it, and it's up to us to transform it to a workable format.\n",
    "\n",
    "Being good cleaning, moving, and reshaping data is in itself a valuable and employable job skill. If you follow these directions exactly, we will walk through constructing an automated process for processing data from this supermarket chain."
   ]
  },
  {
   "cell_type": "markdown",
   "metadata": {},
   "source": [
    "# Part I: Processing\n",
    "\n",
    "### Step 1: Imports and the `os` library\n",
    "We're going to import three libraries: numpy, pandas, and `os`."
   ]
  },
  {
   "cell_type": "code",
   "execution_count": 62,
   "metadata": {},
   "outputs": [],
   "source": [
    "# Import libraries here.\n",
    "\n",
    "import numpy as np\n",
    "import pandas as pd\n",
    "import os as os"
   ]
  },
  {
   "cell_type": "markdown",
   "metadata": {},
   "source": [
    "The `os` library is extremely useful for performing system commands from within Python. Let's get two pieces of overhead out of the way now:\n",
    "\n",
    "1. Create an `output` folder using `os.mkdir()`\n",
    "2. Create a variable called `files` that is the list of files in the `data` folder using `os.listdir()`\n",
    "\n",
    "**WARNING:** The `os.mkdir()` function will give you an error if you try to make a folder that already exists!"
   ]
  },
  {
   "cell_type": "code",
   "execution_count": 63,
   "metadata": {},
   "outputs": [],
   "source": [
    "# Create an output folder.\n",
    "os.mkdir('output')\n",
    "\n",
    "# Create file path variable.\n",
    "path = ('output')\n",
    "\n",
    "# Create a files variable that contains all of our data files.\n",
    "files = os.listdir(path)"
   ]
  },
  {
   "cell_type": "markdown",
   "metadata": {},
   "source": [
    "### Step 2: Process one data frame\n",
    "It looks like we have data for the month of January. 31 files of 10 sheets each! Luckily they are all in the same format. So let's read just one in and process that. It might be helpful to open one up in your spreadsheet viewer of choice first (Excel, Numbers, Sheets, etc.)"
   ]
  },
  {
   "cell_type": "code",
   "execution_count": 80,
   "metadata": {},
   "outputs": [],
   "source": [
    "# Read in data from your city from January 1st.\n",
    "\n",
    "jan_1 = pd.read_excel('data/Jan 1.xlsx',sheet_name='Washington, DC')"
   ]
  },
  {
   "cell_type": "code",
   "execution_count": 81,
   "metadata": {},
   "outputs": [
    {
     "name": "stdout",
     "output_type": "stream",
     "text": [
      "   prodcode  price_eu  weight_kg  quantity\n",
      "0      4011  1.434955   1.125474       182\n",
      "1      4404  2.882103   1.407820       363\n",
      "2      4272  0.547080   4.765729       309\n",
      "3      4131  2.030937   6.794560       354\n",
      "4      4240  1.658934   2.978144       347\n",
      "          prodcode    price_eu   weight_kg    quantity\n",
      "count   149.000000  149.000000  149.000000  149.000000\n",
      "mean   4214.885906    1.828090    5.350899  314.369128\n",
      "std     334.081122    0.732734    2.630500  118.737921\n",
      "min    3302.000000    0.528804    1.054650  101.000000\n",
      "25%    4030.000000    1.250885    3.297392  209.000000\n",
      "50%    4134.000000    1.790815    5.202618  323.000000\n",
      "75%    4323.000000    2.431986    7.881181  424.000000\n",
      "max    4958.000000    2.998810    9.911517  499.000000\n"
     ]
    }
   ],
   "source": [
    "# Check that df was created appropriately / explore\n",
    "\n",
    "print(jan_1.head(5))\n",
    "print(jan_1.describe())"
   ]
  },
  {
   "cell_type": "code",
   "execution_count": 66,
   "metadata": {},
   "outputs": [
    {
     "data": {
      "text/plain": [
       "3302    12\n",
       "4062    10\n",
       "4404     9\n",
       "4309     9\n",
       "4159     9\n",
       "4081     8\n",
       "4796     8\n",
       "4011     8\n",
       "4323     8\n",
       "4078     6\n",
       "4030     6\n",
       "4958     5\n",
       "4412     5\n",
       "4131     5\n",
       "4272     4\n",
       "4225     4\n",
       "4134     4\n",
       "4012     3\n",
       "4240     3\n",
       "4650     3\n",
       "Name: prodcode, dtype: int64"
      ]
     },
     "execution_count": 66,
     "metadata": {},
     "output_type": "execute_result"
    }
   ],
   "source": [
    "# Count unique values in col 'prodcode'\n",
    "\n",
    "jan_1['prodcode'].value_counts()"
   ]
  },
  {
   "cell_type": "markdown",
   "metadata": {},
   "source": [
    "### Step 2a: Convert to 'Merican columns\n",
    "For whatever reason, our data are stored in euros and kilograms. Create `price_usd` and `weight_lb` columns. There are 2.2 pounds per kilogram, and 1.1 dollars per euro."
   ]
  },
  {
   "cell_type": "code",
   "execution_count": 67,
   "metadata": {},
   "outputs": [
    {
     "data": {
      "text/plain": [
       "0      2.252955\n",
       "1      3.001334\n",
       "2      2.400748\n",
       "3      2.576964\n",
       "4      1.983123\n",
       "         ...   \n",
       "124    2.010444\n",
       "125    2.709552\n",
       "126    1.012167\n",
       "127    1.662098\n",
       "128    1.846835\n",
       "Name: price_usd, Length: 129, dtype: float64"
      ]
     },
     "execution_count": 67,
     "metadata": {},
     "output_type": "execute_result"
    }
   ],
   "source": [
    "# Convert price from EU to USD\n",
    "\n",
    "jan_1['price_usd'] = jan_1['price_eu'] * 1.1\n",
    "jan_1['price_usd']"
   ]
  },
  {
   "cell_type": "code",
   "execution_count": 68,
   "metadata": {},
   "outputs": [
    {
     "data": {
      "text/plain": [
       "0      8.812961\n",
       "1      9.331372\n",
       "2      8.937798\n",
       "3      7.067682\n",
       "4      9.551503\n",
       "         ...   \n",
       "124    7.922745\n",
       "125    5.839095\n",
       "126    9.225959\n",
       "127    2.667668\n",
       "128    3.539966\n",
       "Name: weight_lb, Length: 129, dtype: float64"
      ]
     },
     "execution_count": 68,
     "metadata": {},
     "output_type": "execute_result"
    }
   ],
   "source": [
    "# Convert weight from KG to LB\n",
    "\n",
    "jan_1['weight_lb'] = jan_1['weight_kg']\n",
    "jan_1['weight_lb']"
   ]
  },
  {
   "cell_type": "markdown",
   "metadata": {},
   "source": [
    "### Step 2b: Merge in product names\n",
    "You'll notice we also have a `plu-codes.csv` file containing actual product names matched up against their price lookup (PLU) codes. Let's merge these product names onto our Jan 1 data.\n",
    "* _Hint 1:_ What kind of merge is this? Right, left, inner, outer, etc.?\n",
    "* _Hint 2:_ Pay special attention to column names!"
   ]
  },
  {
   "cell_type": "code",
   "execution_count": 69,
   "metadata": {},
   "outputs": [
    {
     "data": {
      "text/html": [
       "<div>\n",
       "<style scoped>\n",
       "    .dataframe tbody tr th:only-of-type {\n",
       "        vertical-align: middle;\n",
       "    }\n",
       "\n",
       "    .dataframe tbody tr th {\n",
       "        vertical-align: top;\n",
       "    }\n",
       "\n",
       "    .dataframe thead th {\n",
       "        text-align: right;\n",
       "    }\n",
       "</style>\n",
       "<table border=\"1\" class=\"dataframe\">\n",
       "  <thead>\n",
       "    <tr style=\"text-align: right;\">\n",
       "      <th></th>\n",
       "      <th>product</th>\n",
       "      <th>plu_code</th>\n",
       "    </tr>\n",
       "  </thead>\n",
       "  <tbody>\n",
       "    <tr>\n",
       "      <th>0</th>\n",
       "      <td>Apple (Fuji)</td>\n",
       "      <td>4131</td>\n",
       "    </tr>\n",
       "  </tbody>\n",
       "</table>\n",
       "</div>"
      ],
      "text/plain": [
       "        product  plu_code\n",
       "0  Apple (Fuji)      4131"
      ]
     },
     "execution_count": 69,
     "metadata": {},
     "output_type": "execute_result"
    }
   ],
   "source": [
    "# Create new df from 'plu-codes.csv'\n",
    "\n",
    "plu = pd.read_csv(\"plu-codes.csv\")\n",
    "plu.head(1)"
   ]
  },
  {
   "cell_type": "code",
   "execution_count": 70,
   "metadata": {},
   "outputs": [
    {
     "data": {
      "text/html": [
       "<div>\n",
       "<style scoped>\n",
       "    .dataframe tbody tr th:only-of-type {\n",
       "        vertical-align: middle;\n",
       "    }\n",
       "\n",
       "    .dataframe tbody tr th {\n",
       "        vertical-align: top;\n",
       "    }\n",
       "\n",
       "    .dataframe thead th {\n",
       "        text-align: right;\n",
       "    }\n",
       "</style>\n",
       "<table border=\"1\" class=\"dataframe\">\n",
       "  <thead>\n",
       "    <tr style=\"text-align: right;\">\n",
       "      <th></th>\n",
       "      <th>0</th>\n",
       "      <th>1</th>\n",
       "      <th>2</th>\n",
       "    </tr>\n",
       "  </thead>\n",
       "  <tbody>\n",
       "    <tr>\n",
       "      <th>prodcode</th>\n",
       "      <td>4159</td>\n",
       "      <td>4159</td>\n",
       "      <td>4159</td>\n",
       "    </tr>\n",
       "    <tr>\n",
       "      <th>price_eu</th>\n",
       "      <td>2.04814</td>\n",
       "      <td>2.12496</td>\n",
       "      <td>1.83422</td>\n",
       "    </tr>\n",
       "    <tr>\n",
       "      <th>weight_kg</th>\n",
       "      <td>8.81296</td>\n",
       "      <td>1.90649</td>\n",
       "      <td>7.78823</td>\n",
       "    </tr>\n",
       "    <tr>\n",
       "      <th>quantity</th>\n",
       "      <td>138</td>\n",
       "      <td>319</td>\n",
       "      <td>229</td>\n",
       "    </tr>\n",
       "    <tr>\n",
       "      <th>price_usd</th>\n",
       "      <td>2.25296</td>\n",
       "      <td>2.33746</td>\n",
       "      <td>2.01764</td>\n",
       "    </tr>\n",
       "    <tr>\n",
       "      <th>weight_lb</th>\n",
       "      <td>8.81296</td>\n",
       "      <td>1.90649</td>\n",
       "      <td>7.78823</td>\n",
       "    </tr>\n",
       "    <tr>\n",
       "      <th>product</th>\n",
       "      <td>Onion</td>\n",
       "      <td>Onion</td>\n",
       "      <td>Onion</td>\n",
       "    </tr>\n",
       "    <tr>\n",
       "      <th>plu_code</th>\n",
       "      <td>4159</td>\n",
       "      <td>4159</td>\n",
       "      <td>4159</td>\n",
       "    </tr>\n",
       "  </tbody>\n",
       "</table>\n",
       "</div>"
      ],
      "text/plain": [
       "                 0        1        2\n",
       "prodcode      4159     4159     4159\n",
       "price_eu   2.04814  2.12496  1.83422\n",
       "weight_kg  8.81296  1.90649  7.78823\n",
       "quantity       138      319      229\n",
       "price_usd  2.25296  2.33746  2.01764\n",
       "weight_lb  8.81296  1.90649  7.78823\n",
       "product      Onion    Onion    Onion\n",
       "plu_code      4159     4159     4159"
      ]
     },
     "execution_count": 70,
     "metadata": {},
     "output_type": "execute_result"
    }
   ],
   "source": [
    "# Create new df from the merge of jan_1 and plu dfs (on product code)\n",
    "\n",
    "merge_prods = jan_1.merge(plu, left_on='prodcode', right_on='plu_code')\n",
    "merge_prods.head(3).T"
   ]
  },
  {
   "cell_type": "markdown",
   "metadata": {},
   "source": [
    "### Step 2c: Drop unnecessary columns\n",
    "We've created some extraneous columns. Drop the old price and weight columns, as well as any redundant columns."
   ]
  },
  {
   "cell_type": "code",
   "execution_count": 76,
   "metadata": {},
   "outputs": [
    {
     "data": {
      "text/html": [
       "<div>\n",
       "<style scoped>\n",
       "    .dataframe tbody tr th:only-of-type {\n",
       "        vertical-align: middle;\n",
       "    }\n",
       "\n",
       "    .dataframe tbody tr th {\n",
       "        vertical-align: top;\n",
       "    }\n",
       "\n",
       "    .dataframe thead th {\n",
       "        text-align: right;\n",
       "    }\n",
       "</style>\n",
       "<table border=\"1\" class=\"dataframe\">\n",
       "  <thead>\n",
       "    <tr style=\"text-align: right;\">\n",
       "      <th></th>\n",
       "      <th>prodcode</th>\n",
       "      <th>price_eu</th>\n",
       "      <th>weight_kg</th>\n",
       "      <th>quantity</th>\n",
       "      <th>price_usd</th>\n",
       "      <th>weight_lb</th>\n",
       "      <th>product</th>\n",
       "    </tr>\n",
       "  </thead>\n",
       "  <tbody>\n",
       "    <tr>\n",
       "      <th>0</th>\n",
       "      <td>4159</td>\n",
       "      <td>2.048141</td>\n",
       "      <td>8.812961</td>\n",
       "      <td>138</td>\n",
       "      <td>2.252955</td>\n",
       "      <td>8.812961</td>\n",
       "      <td>Onion</td>\n",
       "    </tr>\n",
       "    <tr>\n",
       "      <th>1</th>\n",
       "      <td>4159</td>\n",
       "      <td>2.124963</td>\n",
       "      <td>1.906494</td>\n",
       "      <td>319</td>\n",
       "      <td>2.337459</td>\n",
       "      <td>1.906494</td>\n",
       "      <td>Onion</td>\n",
       "    </tr>\n",
       "    <tr>\n",
       "      <th>2</th>\n",
       "      <td>4159</td>\n",
       "      <td>1.834220</td>\n",
       "      <td>7.788227</td>\n",
       "      <td>229</td>\n",
       "      <td>2.017642</td>\n",
       "      <td>7.788227</td>\n",
       "      <td>Onion</td>\n",
       "    </tr>\n",
       "    <tr>\n",
       "      <th>3</th>\n",
       "      <td>4159</td>\n",
       "      <td>1.281120</td>\n",
       "      <td>4.506284</td>\n",
       "      <td>164</td>\n",
       "      <td>1.409232</td>\n",
       "      <td>4.506284</td>\n",
       "      <td>Onion</td>\n",
       "    </tr>\n",
       "    <tr>\n",
       "      <th>4</th>\n",
       "      <td>4159</td>\n",
       "      <td>1.162582</td>\n",
       "      <td>8.225310</td>\n",
       "      <td>447</td>\n",
       "      <td>1.278840</td>\n",
       "      <td>8.225310</td>\n",
       "      <td>Onion</td>\n",
       "    </tr>\n",
       "    <tr>\n",
       "      <th>...</th>\n",
       "      <td>...</td>\n",
       "      <td>...</td>\n",
       "      <td>...</td>\n",
       "      <td>...</td>\n",
       "      <td>...</td>\n",
       "      <td>...</td>\n",
       "      <td>...</td>\n",
       "    </tr>\n",
       "    <tr>\n",
       "      <th>124</th>\n",
       "      <td>4134</td>\n",
       "      <td>2.155794</td>\n",
       "      <td>4.796605</td>\n",
       "      <td>415</td>\n",
       "      <td>2.371374</td>\n",
       "      <td>4.796605</td>\n",
       "      <td>Apple (Gala)</td>\n",
       "    </tr>\n",
       "    <tr>\n",
       "      <th>125</th>\n",
       "      <td>4134</td>\n",
       "      <td>0.920152</td>\n",
       "      <td>9.225959</td>\n",
       "      <td>395</td>\n",
       "      <td>1.012167</td>\n",
       "      <td>9.225959</td>\n",
       "      <td>Apple (Gala)</td>\n",
       "    </tr>\n",
       "    <tr>\n",
       "      <th>126</th>\n",
       "      <td>4012</td>\n",
       "      <td>2.049983</td>\n",
       "      <td>2.323435</td>\n",
       "      <td>240</td>\n",
       "      <td>2.254982</td>\n",
       "      <td>2.323435</td>\n",
       "      <td>Orange</td>\n",
       "    </tr>\n",
       "    <tr>\n",
       "      <th>127</th>\n",
       "      <td>4012</td>\n",
       "      <td>1.666332</td>\n",
       "      <td>1.934260</td>\n",
       "      <td>123</td>\n",
       "      <td>1.832965</td>\n",
       "      <td>1.934260</td>\n",
       "      <td>Orange</td>\n",
       "    </tr>\n",
       "    <tr>\n",
       "      <th>128</th>\n",
       "      <td>4012</td>\n",
       "      <td>1.517081</td>\n",
       "      <td>1.303550</td>\n",
       "      <td>194</td>\n",
       "      <td>1.668790</td>\n",
       "      <td>1.303550</td>\n",
       "      <td>Orange</td>\n",
       "    </tr>\n",
       "  </tbody>\n",
       "</table>\n",
       "<p>129 rows × 7 columns</p>\n",
       "</div>"
      ],
      "text/plain": [
       "     prodcode  price_eu  weight_kg  quantity  price_usd  weight_lb  \\\n",
       "0        4159  2.048141   8.812961       138   2.252955   8.812961   \n",
       "1        4159  2.124963   1.906494       319   2.337459   1.906494   \n",
       "2        4159  1.834220   7.788227       229   2.017642   7.788227   \n",
       "3        4159  1.281120   4.506284       164   1.409232   4.506284   \n",
       "4        4159  1.162582   8.225310       447   1.278840   8.225310   \n",
       "..        ...       ...        ...       ...        ...        ...   \n",
       "124      4134  2.155794   4.796605       415   2.371374   4.796605   \n",
       "125      4134  0.920152   9.225959       395   1.012167   9.225959   \n",
       "126      4012  2.049983   2.323435       240   2.254982   2.323435   \n",
       "127      4012  1.666332   1.934260       123   1.832965   1.934260   \n",
       "128      4012  1.517081   1.303550       194   1.668790   1.303550   \n",
       "\n",
       "          product  \n",
       "0           Onion  \n",
       "1           Onion  \n",
       "2           Onion  \n",
       "3           Onion  \n",
       "4           Onion  \n",
       "..            ...  \n",
       "124  Apple (Gala)  \n",
       "125  Apple (Gala)  \n",
       "126        Orange  \n",
       "127        Orange  \n",
       "128        Orange  \n",
       "\n",
       "[129 rows x 7 columns]"
      ]
     },
     "execution_count": 76,
     "metadata": {},
     "output_type": "execute_result"
    }
   ],
   "source": [
    "# Drop price EU and weight KG\n",
    "\n",
    "merge_prods.drop(columns = ['price_eu'])\n",
    "merge_prods.drop(columns = ['weight_kg'])\n",
    "merge_prods.drop(columns = ['plu_code'])"
   ]
  },
  {
   "cell_type": "markdown",
   "metadata": {},
   "source": [
    "### Step 2d: Add the date\n",
    "Simply create a new `date` column that is the date this data was collected. For example, if this is from `Jan 1.xlsx`, this column should be full of `Jan 1`."
   ]
  },
  {
   "cell_type": "code",
   "execution_count": 77,
   "metadata": {},
   "outputs": [],
   "source": [
    "# Add date column to merge_prods data\n",
    "\n",
    "merge_prods['date'] = 'Jan 1'"
   ]
  },
  {
   "cell_type": "code",
   "execution_count": 78,
   "metadata": {},
   "outputs": [
    {
     "data": {
      "text/html": [
       "<div>\n",
       "<style scoped>\n",
       "    .dataframe tbody tr th:only-of-type {\n",
       "        vertical-align: middle;\n",
       "    }\n",
       "\n",
       "    .dataframe tbody tr th {\n",
       "        vertical-align: top;\n",
       "    }\n",
       "\n",
       "    .dataframe thead th {\n",
       "        text-align: right;\n",
       "    }\n",
       "</style>\n",
       "<table border=\"1\" class=\"dataframe\">\n",
       "  <thead>\n",
       "    <tr style=\"text-align: right;\">\n",
       "      <th></th>\n",
       "      <th>prodcode</th>\n",
       "      <th>price_eu</th>\n",
       "      <th>weight_kg</th>\n",
       "      <th>quantity</th>\n",
       "      <th>price_usd</th>\n",
       "      <th>weight_lb</th>\n",
       "      <th>product</th>\n",
       "      <th>plu_code</th>\n",
       "      <th>date</th>\n",
       "    </tr>\n",
       "  </thead>\n",
       "  <tbody>\n",
       "    <tr>\n",
       "      <th>0</th>\n",
       "      <td>4159</td>\n",
       "      <td>2.048141</td>\n",
       "      <td>8.812961</td>\n",
       "      <td>138</td>\n",
       "      <td>2.252955</td>\n",
       "      <td>8.812961</td>\n",
       "      <td>Onion</td>\n",
       "      <td>4159</td>\n",
       "      <td>Jan 1</td>\n",
       "    </tr>\n",
       "    <tr>\n",
       "      <th>1</th>\n",
       "      <td>4159</td>\n",
       "      <td>2.124963</td>\n",
       "      <td>1.906494</td>\n",
       "      <td>319</td>\n",
       "      <td>2.337459</td>\n",
       "      <td>1.906494</td>\n",
       "      <td>Onion</td>\n",
       "      <td>4159</td>\n",
       "      <td>Jan 1</td>\n",
       "    </tr>\n",
       "    <tr>\n",
       "      <th>2</th>\n",
       "      <td>4159</td>\n",
       "      <td>1.834220</td>\n",
       "      <td>7.788227</td>\n",
       "      <td>229</td>\n",
       "      <td>2.017642</td>\n",
       "      <td>7.788227</td>\n",
       "      <td>Onion</td>\n",
       "      <td>4159</td>\n",
       "      <td>Jan 1</td>\n",
       "    </tr>\n",
       "    <tr>\n",
       "      <th>3</th>\n",
       "      <td>4159</td>\n",
       "      <td>1.281120</td>\n",
       "      <td>4.506284</td>\n",
       "      <td>164</td>\n",
       "      <td>1.409232</td>\n",
       "      <td>4.506284</td>\n",
       "      <td>Onion</td>\n",
       "      <td>4159</td>\n",
       "      <td>Jan 1</td>\n",
       "    </tr>\n",
       "    <tr>\n",
       "      <th>4</th>\n",
       "      <td>4159</td>\n",
       "      <td>1.162582</td>\n",
       "      <td>8.225310</td>\n",
       "      <td>447</td>\n",
       "      <td>1.278840</td>\n",
       "      <td>8.225310</td>\n",
       "      <td>Onion</td>\n",
       "      <td>4159</td>\n",
       "      <td>Jan 1</td>\n",
       "    </tr>\n",
       "    <tr>\n",
       "      <th>...</th>\n",
       "      <td>...</td>\n",
       "      <td>...</td>\n",
       "      <td>...</td>\n",
       "      <td>...</td>\n",
       "      <td>...</td>\n",
       "      <td>...</td>\n",
       "      <td>...</td>\n",
       "      <td>...</td>\n",
       "      <td>...</td>\n",
       "    </tr>\n",
       "    <tr>\n",
       "      <th>124</th>\n",
       "      <td>4134</td>\n",
       "      <td>2.155794</td>\n",
       "      <td>4.796605</td>\n",
       "      <td>415</td>\n",
       "      <td>2.371374</td>\n",
       "      <td>4.796605</td>\n",
       "      <td>Apple (Gala)</td>\n",
       "      <td>4134</td>\n",
       "      <td>Jan 1</td>\n",
       "    </tr>\n",
       "    <tr>\n",
       "      <th>125</th>\n",
       "      <td>4134</td>\n",
       "      <td>0.920152</td>\n",
       "      <td>9.225959</td>\n",
       "      <td>395</td>\n",
       "      <td>1.012167</td>\n",
       "      <td>9.225959</td>\n",
       "      <td>Apple (Gala)</td>\n",
       "      <td>4134</td>\n",
       "      <td>Jan 1</td>\n",
       "    </tr>\n",
       "    <tr>\n",
       "      <th>126</th>\n",
       "      <td>4012</td>\n",
       "      <td>2.049983</td>\n",
       "      <td>2.323435</td>\n",
       "      <td>240</td>\n",
       "      <td>2.254982</td>\n",
       "      <td>2.323435</td>\n",
       "      <td>Orange</td>\n",
       "      <td>4012</td>\n",
       "      <td>Jan 1</td>\n",
       "    </tr>\n",
       "    <tr>\n",
       "      <th>127</th>\n",
       "      <td>4012</td>\n",
       "      <td>1.666332</td>\n",
       "      <td>1.934260</td>\n",
       "      <td>123</td>\n",
       "      <td>1.832965</td>\n",
       "      <td>1.934260</td>\n",
       "      <td>Orange</td>\n",
       "      <td>4012</td>\n",
       "      <td>Jan 1</td>\n",
       "    </tr>\n",
       "    <tr>\n",
       "      <th>128</th>\n",
       "      <td>4012</td>\n",
       "      <td>1.517081</td>\n",
       "      <td>1.303550</td>\n",
       "      <td>194</td>\n",
       "      <td>1.668790</td>\n",
       "      <td>1.303550</td>\n",
       "      <td>Orange</td>\n",
       "      <td>4012</td>\n",
       "      <td>Jan 1</td>\n",
       "    </tr>\n",
       "  </tbody>\n",
       "</table>\n",
       "<p>129 rows × 9 columns</p>\n",
       "</div>"
      ],
      "text/plain": [
       "     prodcode  price_eu  weight_kg  quantity  price_usd  weight_lb  \\\n",
       "0        4159  2.048141   8.812961       138   2.252955   8.812961   \n",
       "1        4159  2.124963   1.906494       319   2.337459   1.906494   \n",
       "2        4159  1.834220   7.788227       229   2.017642   7.788227   \n",
       "3        4159  1.281120   4.506284       164   1.409232   4.506284   \n",
       "4        4159  1.162582   8.225310       447   1.278840   8.225310   \n",
       "..        ...       ...        ...       ...        ...        ...   \n",
       "124      4134  2.155794   4.796605       415   2.371374   4.796605   \n",
       "125      4134  0.920152   9.225959       395   1.012167   9.225959   \n",
       "126      4012  2.049983   2.323435       240   2.254982   2.323435   \n",
       "127      4012  1.666332   1.934260       123   1.832965   1.934260   \n",
       "128      4012  1.517081   1.303550       194   1.668790   1.303550   \n",
       "\n",
       "          product  plu_code   date  \n",
       "0           Onion      4159  Jan 1  \n",
       "1           Onion      4159  Jan 1  \n",
       "2           Onion      4159  Jan 1  \n",
       "3           Onion      4159  Jan 1  \n",
       "4           Onion      4159  Jan 1  \n",
       "..            ...       ...    ...  \n",
       "124  Apple (Gala)      4134  Jan 1  \n",
       "125  Apple (Gala)      4134  Jan 1  \n",
       "126        Orange      4012  Jan 1  \n",
       "127        Orange      4012  Jan 1  \n",
       "128        Orange      4012  Jan 1  \n",
       "\n",
       "[129 rows x 9 columns]"
      ]
     },
     "execution_count": 78,
     "metadata": {},
     "output_type": "execute_result"
    }
   ],
   "source": [
    "# Check merge_prods df to see that date was added \n",
    "\n",
    "merge_prods"
   ]
  },
  {
   "cell_type": "markdown",
   "metadata": {},
   "source": [
    "### Step 3: Write a function that conducts all of Step 2\n",
    "This function should import a **filename and a city name** and return a fully processed DataFrame. That is, the function should:\n",
    "1. Read in the data from the given file and city.\n",
    "1. Create USD and pound columns.\n",
    "1. Merge in product names.\n",
    "1. Drop unnecessary columns.\n",
    "1. Add a date column"
   ]
  },
  {
   "cell_type": "code",
   "execution_count": null,
   "metadata": {},
   "outputs": [],
   "source": [
    "def process_data(file, city):\n",
    "    new_df =          "
   ]
  },
  {
   "cell_type": "markdown",
   "metadata": {},
   "source": [
    "Test your function out on a new file and city!"
   ]
  },
  {
   "cell_type": "code",
   "execution_count": null,
   "metadata": {},
   "outputs": [],
   "source": []
  },
  {
   "cell_type": "markdown",
   "metadata": {},
   "source": [
    "### Step 4: Process all of January's data\n",
    "For each spreadsheet, process the data and store the resulting DataFrame in one big list. **You only need to do this for your city!**\n",
    "\n",
    "* _Hint 1:_ A listcomp would make this whole step one line of code!\n",
    "* _Hint 2:_ You've already made that `files` variable to help you here."
   ]
  },
  {
   "cell_type": "code",
   "execution_count": null,
   "metadata": {},
   "outputs": [],
   "source": []
  },
  {
   "cell_type": "markdown",
   "metadata": {},
   "source": [
    "### Step 5: Concatenate all DataFrames from Step 4 into one large DataFrame\n",
    "* _Hint:_ Is there a function in `pandas` that can do something like this for us? This is also just one line of code!"
   ]
  },
  {
   "cell_type": "code",
   "execution_count": null,
   "metadata": {},
   "outputs": [],
   "source": []
  },
  {
   "cell_type": "markdown",
   "metadata": {},
   "source": [
    "### Step 6: Do this for all cities, write data\n",
    "Here's the big one. For each city, process and the data as in steps 3-5, and then write the data to our `output` folder. Below is a dictionary of city name to desired output file name.\n",
    "\n",
    "Before writing your DataFrame, do the following:\n",
    "* Add a `city` column\n",
    "* Reorder the columns into the following order:\n",
    "\n",
    "\n",
    "| city | date | product | prodcode | quantity | weight_lb | price_usd |\n",
    "|---|---|---|---|---|---|---|\n",
    "\n",
    "* _Hint:_ You can reorder DataFrame columns simply by writing over your DataFrame with itself, but specifying the specific column order with `.loc`. For example:\n",
    "\n",
    "`print(df)`\n",
    "\n",
    "| b | c | a |\n",
    "|---|---|---|\n",
    "| 1 | 2 | 3 |\n",
    "\n",
    "`df = df.loc[:, [\"a\", \"b\", \"c\"]]`\n",
    "\n",
    "`print(df)`\n",
    "\n",
    "| a | b | c |\n",
    "|---|---|---|\n",
    "| 3 | 1 | 2 |\n"
   ]
  },
  {
   "cell_type": "code",
   "execution_count": null,
   "metadata": {},
   "outputs": [],
   "source": [
    "city_dict = {\n",
    "    \"Atlanta\": \"atl.csv\",\n",
    "    \"Austin\": \"atx.csv\",\n",
    "    \"Boston\": \"bos.csv\",\n",
    "    \"Chicago\": \"chi.csv\",\n",
    "    \"Denver\": \"den.csv\",\n",
    "    \"Los Angeles\": \"lax.csv\",\n",
    "    \"New York\": \"nyc.csv\",\n",
    "    \"San Francisco\": \"sf.csv\",\n",
    "    \"Seattle\": \"sea.csv\",\n",
    "    \"Washington, DC\": \"dc.csv\"\n",
    "}"
   ]
  },
  {
   "cell_type": "code",
   "execution_count": null,
   "metadata": {},
   "outputs": [],
   "source": [
    "# Loop through city_dict and carry out Step 6 here.\n",
    "# The keys of city_dict can serve as the sheet name.\n",
    "# The values of city_dict are what you should name the output .csv files.\n",
    "# If done correctly, this cell could take almost a minute to run!"
   ]
  },
  {
   "cell_type": "markdown",
   "metadata": {},
   "source": [
    "# Part II: Checking our answers \n",
    "In steps very similar to the ones conducted above...\n",
    "1. Loop through the files we just wrote to `output`, and read them in, collecting them all in one list\n",
    "1. Combine all of those DataFrames into one large DataFrame\n",
    "1. For each city, find the mean `quantity`, `weight_lb`, and `price_usd`.\n",
    "\n",
    "If you've done everything correct, your answer should look exactly like this:\n",
    "\n",
    "![](imgs/correct-output.png)"
   ]
  },
  {
   "cell_type": "code",
   "execution_count": null,
   "metadata": {},
   "outputs": [],
   "source": []
  },
  {
   "cell_type": "code",
   "execution_count": null,
   "metadata": {},
   "outputs": [],
   "source": []
  },
  {
   "cell_type": "markdown",
   "metadata": {},
   "source": [
    "# Part III (BONUS): Get this process production-ready!\n",
    "_This part of the lab is optional, but very highly recommended, as the skills developed in this part are extremely common in industry._\n",
    "\n",
    "For this step, we're going to take this whole process and put it into a production-ready Python script. **ABSOLUTELY NONE OF THIS STEP SHOULD TAKE PLACE IN A JUPYTER NOTEBOOK! PRODUCTIONALIZED ETL (_\"Extract, Transform, Load\"_) CODE DOES NOT TAKE PLACE IN A JUPYTER NOTEBOOK!**\n",
    "\n",
    "The instructions are simple: As conducted in this lab, read, transform, and export the data in our Excel files into .csv files. The code should be in a `.py` file and executable from the command line. Here are some hints and tips to guide you:\n",
    "\n",
    "### Hints, tips, and tricks:\n",
    "* A good place to start is with the code you've already written. In this notebook, you can click `File > Download as > Python (.py)` to export as a `.py` file. Most of this exercise then comes down to you cleaning this file. (There will be a lot to clean).\n",
    "* Remember `os.mkdir()` will throw an error if the folder you're trying to make already exists. Maybe you should check to see if it already exists. If it already exists, what should you do? (Remember that `.csv` can be overwritten with no problem.) The functions that can help you with this are all in the `os` library.\n",
    "* Remember to follow all of the Python best practices we've already learned:\n",
    "    - All import statements should go at the top of your script.\n",
    "    - Comment your code. Comments shouldn't explain _what_ code does, but _why_ the code does this.\n",
    "    - Keep your code DRY (don't repeat yourself) as opposed to WET (write everything twice). All constants should be variables that only need to be changed once. All code should be bottled into functions so you only need to fix it once.\n",
    "* Make sure not to hardcode \"Jan\" anywhere. The point is that this code can be run throughout the lifetime of this supermarket's project, which is likely months or years. Keep your code so that if you get February data, you only need to change one tiny piece of the script (probably a file path)."
   ]
  }
 ],
 "metadata": {
  "kernelspec": {
   "display_name": "Python 3",
   "language": "python",
   "name": "python3"
  },
  "language_info": {
   "codemirror_mode": {
    "name": "ipython",
    "version": 3
   },
   "file_extension": ".py",
   "mimetype": "text/x-python",
   "name": "python",
   "nbconvert_exporter": "python",
   "pygments_lexer": "ipython3",
   "version": "3.7.6"
  }
 },
 "nbformat": 4,
 "nbformat_minor": 4
}
